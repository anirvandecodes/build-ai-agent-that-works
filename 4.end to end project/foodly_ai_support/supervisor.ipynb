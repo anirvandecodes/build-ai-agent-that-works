{
 "cells": [
  {
   "cell_type": "code",
   "execution_count": 0,
   "metadata": {
    "application/vnd.databricks.v1+cell": {
     "cellMetadata": {
      "byteLimit": 2048000,
      "rowLimit": 10000
     },
     "inputWidgets": {},
     "nuid": "08a37619-17da-432a-8ff3-d8c1b512f11a",
     "showTitle": false,
     "tableResultSettingsMap": {},
     "title": ""
    }
   },
   "outputs": [],
   "source": [
    "# Imports\n",
    "import json\n",
    "from typing import Annotated, Any, Generator, Optional, Sequence, TypedDict, Union\n",
    "from uuid import uuid4\n",
    "\n",
    "import mlflow\n",
    "from databricks_langchain import (\n",
    "    ChatDatabricks,\n",
    "    UCFunctionToolkit,\n",
    "    VectorSearchRetrieverTool,\n",
    ")\n",
    "from langchain_core.language_models import LanguageModelLike\n",
    "from langchain_core.messages import (\n",
    "    AIMessage,\n",
    "    AIMessageChunk,\n",
    "    BaseMessage,\n",
    "    convert_to_openai_messages,\n",
    ")\n",
    "from langchain_core.runnables import RunnableConfig, RunnableLambda\n",
    "from langchain_core.tools import BaseTool\n",
    "from langgraph.graph import END, StateGraph\n",
    "from langgraph.graph.message import add_messages\n",
    "from langgraph.prebuilt.tool_node import ToolNode\n",
    "from mlflow.entities import SpanType\n",
    "from mlflow.pyfunc import ResponsesAgent\n",
    "from mlflow.types.responses import (\n",
    "    ResponsesAgentRequest,\n",
    "    ResponsesAgentResponse,\n",
    "    ResponsesAgentStreamEvent,\n",
    ")"
   ]
  },
  {
   "cell_type": "code",
   "execution_count": 0,
   "metadata": {
    "application/vnd.databricks.v1+cell": {
     "cellMetadata": {
      "byteLimit": 2048000,
      "rowLimit": 10000
     },
     "inputWidgets": {},
     "nuid": "2f26c1ea-269a-47bd-8c15-a9388100c978",
     "showTitle": false,
     "tableResultSettingsMap": {},
     "title": ""
    }
   },
   "outputs": [],
   "source": [
    "supervisor_prompt = \"\"\"\n",
    "\n",
    "You are the Foodly Supervisor Agent.\n",
    "You do not answer user questions directly.\n",
    "Your job is to decide which specialist agent should handle the user’s latest request.\n",
    "\n",
    "Available specialist agents:\n",
    "- Order Agent: handles order lookups, statuses, details, cancellations.\n",
    "- Policy Agent: handles questions about refunds, cancellations, loyalty, delivery, safety, privacy, promotions, or any other company policies.\n",
    "- Escalation Agent: connects the user to a human when requested or when no other agent can resolve the issue.\n",
    "\n",
    "Rules:\n",
    "1. Read the user’s message carefully.\n",
    "2. If the request clearly matches one of the above agents, delegate to that agent.\n",
    "3. If no agent can solve the request, politely tell the user:\n",
    "   \"I’m sorry, I can’t handle that request. Would you like me to escalate this to a human support specialist?\"\n",
    "4. Never guess or make up answers yourself.\n",
    "5. If multiple agents could handle it, pick the one that is the best fit (e.g., refund questions go to Policy Agent, not Order Agent).\n",
    "\n",
    "Your output must be a routing decision: the name of the agent to call or a polite denial message.\n",
    "\"\"\""
   ]
  },
  {
   "cell_type": "code",
   "execution_count": 0,
   "metadata": {
    "application/vnd.databricks.v1+cell": {
     "cellMetadata": {
      "byteLimit": 2048000,
      "rowLimit": 10000
     },
     "inputWidgets": {},
     "nuid": "9b5f837a-7a8d-437e-8cbb-552071600b01",
     "showTitle": false,
     "tableResultSettingsMap": {},
     "title": ""
    }
   },
   "outputs": [],
   "source": [
    "from langgraph_supervisor import create_supervisor\n",
    "\n",
    "from orders_agent import AGENT as OrderAgent\n",
    "from policy_agent import AGENT as PolicyAgent\n",
    "from escalation_agent import AGENT as EscalationAgent\n",
    "from databricks_langchain import (\n",
    "    ChatDatabricks\n",
    ")\n",
    "\n",
    "\n",
    "LLM_ENDPOINT_NAME = \"databricks-gpt-oss-120b\"\n",
    "llm = ChatDatabricks(endpoint=LLM_ENDPOINT_NAME)\n",
    "\n",
    "\n",
    "# Ensure each agent has a unique name\n",
    "OrderAgent.name = \"OrderAgent\"\n",
    "PolicyAgent.name = \"PolicyAgent\"\n",
    "EscalationAgent.name = \"EscalationAgent\"\n",
    "\n",
    "\n",
    "supervisor = create_supervisor(\n",
    "    model = llm ,\n",
    "    agents=[OrderAgent, PolicyAgent, EscalationAgent],\n",
    "    prompt=supervisor_prompt,\n",
    "    add_handoff_back_messages=True,\n",
    "    output_mode=\"full_history\",\n",
    ").compile()"
   ]
  },
  {
   "cell_type": "code",
   "execution_count": 0,
   "metadata": {
    "application/vnd.databricks.v1+cell": {
     "cellMetadata": {
      "byteLimit": 2048000,
      "rowLimit": 10000
     },
     "inputWidgets": {},
     "nuid": "fc47e7e4-e3e6-494a-a2b5-f150b10e5af7",
     "showTitle": false,
     "tableResultSettingsMap": {},
     "title": ""
    }
   },
   "outputs": [],
   "source": [
    "from helpers import LangGraphChatAgent\n",
    "mlflow.langchain.autolog()\n",
    "AGENT = LangGraphChatAgent(supervisor)\n",
    "mlflow.models.set_model(AGENT)"
   ]
  },
  {
   "cell_type": "code",
   "execution_count": 0,
   "metadata": {
    "application/vnd.databricks.v1+cell": {
     "cellMetadata": {
      "byteLimit": 2048000,
      "rowLimit": 10000
     },
     "inputWidgets": {},
     "nuid": "94666c8a-8219-45f6-b54f-eb36dcddeee4",
     "showTitle": false,
     "tableResultSettingsMap": {},
     "title": ""
    }
   },
   "outputs": [],
   "source": [
    "for event in AGENT.predict_stream(\n",
    "    {\"messages\": [{\"role\": \"user\", \"content\": \"where are my orders?\"}]}\n",
    "):\n",
    "    print(event)"
   ]
  }
 ],
 "metadata": {
  "application/vnd.databricks.v1+notebook": {
   "computePreferences": {
    "hardware": {
     "accelerator": null,
     "gpuPoolId": null,
     "memory": null
    }
   },
   "dashboards": [],
   "environmentMetadata": {
    "base_environment": "",
    "dependencies": [
     "-r /Workspace/Users/real.anirvan@gmail.com/ai-agents-masterclass/requirements.txt"
    ],
    "environment_version": "3"
   },
   "inputWidgetPreferences": null,
   "language": "python",
   "notebookMetadata": {
    "pythonIndentUnit": 4
   },
   "notebookName": "supervisor",
   "widgets": {}
  },
  "language_info": {
   "name": "python"
  }
 },
 "nbformat": 4,
 "nbformat_minor": 0
}
