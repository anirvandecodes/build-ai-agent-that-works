{
 "cells": [
  {
   "cell_type": "markdown",
   "metadata": {
    "application/vnd.databricks.v1+cell": {
     "cellMetadata": {},
     "inputWidgets": {},
     "nuid": "b3e76c44-17e2-45d8-a024-475b3fd4537e",
     "showTitle": false,
     "tableResultSettingsMap": {},
     "title": ""
    }
   },
   "source": [
    "### Creating tools for order agent , this will be uc functions"
   ]
  },
  {
   "cell_type": "code",
   "execution_count": 0,
   "metadata": {
    "application/vnd.databricks.v1+cell": {
     "cellMetadata": {
      "byteLimit": 2048000,
      "implicitDf": true,
      "rowLimit": 10000
     },
     "inputWidgets": {},
     "nuid": "a458614d-dbea-45f1-9d39-ff6133dec6a0",
     "showTitle": false,
     "tableResultSettingsMap": {},
     "title": ""
    }
   },
   "outputs": [],
   "source": [
    "%sql\n",
    "\n",
    "create schema if not exists agents.orders_data;"
   ]
  },
  {
   "cell_type": "code",
   "execution_count": 0,
   "metadata": {
    "application/vnd.databricks.v1+cell": {
     "cellMetadata": {
      "byteLimit": 2048000,
      "implicitDf": true,
      "rowLimit": 10000
     },
     "inputWidgets": {},
     "nuid": "a2fd3b5e-1ed5-4cf1-b2c7-302d634acfa4",
     "showTitle": false,
     "tableResultSettingsMap": {},
     "title": ""
    }
   },
   "outputs": [],
   "source": [
    "%sql\n",
    "CREATE TABLE IF NOT EXISTS agents.orders_data.orders (\n",
    "    order_id STRING,\n",
    "    user_id STRING,\n",
    "    restaurant_name STRING,\n",
    "    status STRING,             -- e.g. 'Placed', 'Preparing', 'Out for delivery', 'Delivered', 'Cancelled'\n",
    "    eta STRING,                -- estimated time e.g. '20 min'\n",
    "    rider_name STRING,\n",
    "    delivery_address STRING,\n",
    "    total_price DECIMAL(10,2),\n",
    "    created_at TIMESTAMP\n",
    ");\n",
    "\n",
    "\n",
    "CREATE TABLE IF NOT EXISTS agents.orders_data.order_items (\n",
    "    order_id STRING,\n",
    "    item_name STRING,\n",
    "    quantity INT,\n",
    "    price DECIMAL(10,2)\n",
    ");\n"
   ]
  },
  {
   "cell_type": "code",
   "execution_count": 0,
   "metadata": {
    "application/vnd.databricks.v1+cell": {
     "cellMetadata": {
      "byteLimit": 2048000,
      "implicitDf": true,
      "rowLimit": 10000
     },
     "inputWidgets": {},
     "nuid": "5f860b38-1b69-495b-8585-7061f044a174",
     "showTitle": false,
     "tableResultSettingsMap": {},
     "title": ""
    }
   },
   "outputs": [],
   "source": [
    "%sql\n",
    "-- Insert sample orders\n",
    "INSERT INTO agents.orders_data.orders VALUES\n",
    "('ORD001', 'USR123', 'Pizza Palace',      'Placed',            '25 min', 'Ramesh', '221B Baker Street', 599.00, current_timestamp()),\n",
    "('ORD002', 'USR123', 'Burger Bazaar',     'Preparing',         '30 min', 'Suresh', '221B Baker Street', 399.00, current_timestamp() - INTERVAL 1 HOUR),\n",
    "('ORD003', 'USR456', 'Curry Corner',      'Out for delivery',  '15 min', 'Mahesh', '742 Evergreen Terrace', 799.00, current_timestamp() - INTERVAL 2 HOUR),\n",
    "('ORD004', 'USR456', 'Pasta Point',       'Delivered',         '0 min',  'Ganesh', '742 Evergreen Terrace', 499.00, current_timestamp() - INTERVAL 1 DAY);\n",
    "\n",
    "-- Insert sample order items\n",
    "INSERT INTO agents.orders_data.order_items VALUES\n",
    "('ORD001', 'Margherita Pizza', 1, 299.00),\n",
    "('ORD001', 'Garlic Bread',     1, 150.00),\n",
    "('ORD001', 'Coke',             2, 75.00),\n",
    "('ORD002', 'Cheeseburger',     2, 199.50),\n",
    "('ORD002', 'Fries',            1, 100.00),\n",
    "('ORD003', 'Paneer Tikka',     1, 299.00),\n",
    "('ORD003', 'Butter Naan',      4, 100.00),\n",
    "('ORD003', 'Gulab Jamun',      2, 100.00),\n",
    "('ORD004', 'Alfredo Pasta',    1, 299.00),\n",
    "('ORD004', 'Garlic Bread',     1, 150.00),\n",
    "('ORD004', 'Lemonade',         1, 50.00);\n"
   ]
  },
  {
   "cell_type": "code",
   "execution_count": 0,
   "metadata": {
    "application/vnd.databricks.v1+cell": {
     "cellMetadata": {
      "byteLimit": 2048000,
      "implicitDf": true,
      "rowLimit": 10000
     },
     "inputWidgets": {},
     "nuid": "6edbdd72-654c-4888-84b8-233a6bcc69de",
     "showTitle": false,
     "tableResultSettingsMap": {},
     "title": ""
    }
   },
   "outputs": [],
   "source": [
    "%sql\n",
    "-- 🛒 Get all orders for a user\n",
    "CREATE OR REPLACE FUNCTION agents.orders_data.get_all_orders(user_id_input STRING COMMENT 'User ID used to retrieve all active or recent orders')\n",
    "RETURNS TABLE (\n",
    "    order_id STRING,\n",
    "    restaurant STRING,\n",
    "    status STRING,\n",
    "    eta STRING\n",
    ")\n",
    "COMMENT 'Returns all active or recent orders for the given user_id, including restaurant name, status, and ETA.'\n",
    "RETURN (\n",
    "    SELECT order_id, restaurant_name AS restaurant, status, eta\n",
    "    FROM agents.orders_data.orders\n",
    "    WHERE user_id = user_id_input\n",
    "    ORDER BY created_at DESC\n",
    "    LIMIT 10\n",
    ");\n",
    "\n",
    "-- 📦 Get order status\n",
    "CREATE OR REPLACE FUNCTION agents.orders_data.get_order_status(order_id_input STRING COMMENT 'Order ID to retrieve the current status')\n",
    "RETURNS TABLE (\n",
    "    status STRING,\n",
    "    eta STRING,\n",
    "    restaurant STRING,\n",
    "    rider STRING\n",
    ")\n",
    "COMMENT 'Returns the current status, ETA, restaurant, and rider for the provided order_id.'\n",
    "RETURN (\n",
    "    SELECT status, eta, restaurant_name AS restaurant, rider_name AS rider\n",
    "    FROM agents.orders_data.orders\n",
    "    WHERE order_id = order_id_input\n",
    "    LIMIT 1\n",
    ");\n",
    "\n",
    "-- 🔎 Get order details\n",
    "CREATE OR REPLACE FUNCTION agents.orders_data.get_order_details(order_id_input STRING COMMENT 'Order ID to retrieve full details')\n",
    "RETURNS TABLE (\n",
    "    item_name STRING,\n",
    "    quantity INT,\n",
    "    price DECIMAL(10,2),\n",
    "    delivery_address STRING,\n",
    "    placed_at TIMESTAMP\n",
    ")\n",
    "COMMENT 'Returns detailed information for the given order_id including items, quantity, price, delivery address, and order time.'\n",
    "RETURN (\n",
    "    SELECT i.item_name, i.quantity, i.price, o.delivery_address, o.created_at AS placed_at\n",
    "    FROM agents.orders_data.order_items i\n",
    "    JOIN agents.orders_data.orders o\n",
    "    ON i.order_id = o.order_id\n",
    "    WHERE o.order_id = order_id_input\n",
    ");\n",
    "\n",
    "-- ❌ Cancel an order\n",
    "CREATE OR REPLACE FUNCTION agents.orders_data.cancel_order(order_id_input STRING COMMENT 'Order ID to attempt cancellation')\n",
    "RETURNS TABLE (\n",
    "    success BOOLEAN,\n",
    "    message STRING,\n",
    "    refund_initiated BOOLEAN,\n",
    "    refund_amount DECIMAL(10,2)\n",
    ")\n",
    "COMMENT 'Attempts to cancel the given order_id. Returns whether it was successful, a message, and refund details if applicable.'\n",
    "RETURN (\n",
    "    SELECT\n",
    "      CASE\n",
    "        WHEN status NOT IN ('Preparing','Out for delivery','Delivered') THEN TRUE\n",
    "        ELSE FALSE\n",
    "      END AS success,\n",
    "      CASE\n",
    "        WHEN status NOT IN ('Preparing','Out for delivery','Delivered') THEN 'Order has been cancelled successfully.'\n",
    "        ELSE 'Order cannot be cancelled at this stage.'\n",
    "      END AS message,\n",
    "      CASE\n",
    "        WHEN status NOT IN ('Preparing','Out for delivery','Delivered') THEN TRUE\n",
    "        ELSE FALSE\n",
    "      END AS refund_initiated,\n",
    "      CASE\n",
    "        WHEN status NOT IN ('Preparing','Out for delivery','Delivered') THEN total_price\n",
    "        ELSE 0.00\n",
    "      END AS refund_amount\n",
    "    FROM agents.orders_data.orders\n",
    "    WHERE order_id = order_id_input\n",
    "    LIMIT 1\n",
    ");\n"
   ]
  },
  {
   "cell_type": "code",
   "execution_count": 0,
   "metadata": {
    "application/vnd.databricks.v1+cell": {
     "cellMetadata": {},
     "inputWidgets": {},
     "nuid": "c9277955-be1d-4e9a-9dfd-5ff0cb0d963c",
     "showTitle": false,
     "tableResultSettingsMap": {},
     "title": ""
    }
   },
   "outputs": [],
   "source": []
  }
 ],
 "metadata": {
  "application/vnd.databricks.v1+notebook": {
   "computePreferences": {
    "hardware": {
     "accelerator": null,
     "gpuPoolId": null,
     "memory": null
    }
   },
   "dashboards": [],
   "environmentMetadata": {
    "base_environment": "",
    "dependencies": [
     "-r /Workspace/Users/real.anirvan@gmail.com/ai-agents-masterclass/requirements.txt"
    ],
    "environment_version": "3"
   },
   "inputWidgetPreferences": null,
   "language": "python",
   "notebookMetadata": {
    "mostRecentlyExecutedCommandWithImplicitDF": {
     "commandId": 6763095453236995,
     "dataframes": [
      "_sqldf"
     ]
    },
    "pythonIndentUnit": 4
   },
   "notebookName": "2.orders_agent_tool_creation",
   "widgets": {}
  },
  "language_info": {
   "name": "python"
  }
 },
 "nbformat": 4,
 "nbformat_minor": 0
}
