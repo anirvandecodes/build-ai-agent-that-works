{
 "cells": [
  {
   "cell_type": "markdown",
   "metadata": {
    "application/vnd.databricks.v1+cell": {
     "cellMetadata": {},
     "inputWidgets": {},
     "nuid": "b3e76c44-17e2-45d8-a024-475b3fd4537e",
     "showTitle": false,
     "tableResultSettingsMap": {},
     "title": ""
    }
   },
   "source": [
    "### Creating tools for escalation agent , this will be uc functions"
   ]
  },
  {
   "cell_type": "code",
   "execution_count": 0,
   "metadata": {
    "application/vnd.databricks.v1+cell": {
     "cellMetadata": {
      "byteLimit": 2048000,
      "implicitDf": true,
      "rowLimit": 10000
     },
     "inputWidgets": {},
     "nuid": "d3153b1b-ebbb-49eb-88ff-fdcab825bf1a",
     "showTitle": false,
     "tableResultSettingsMap": {},
     "title": ""
    }
   },
   "outputs": [],
   "source": [
    "%sql\n",
    "create schema if not exists agents.escalation;"
   ]
  },
  {
   "cell_type": "code",
   "execution_count": 0,
   "metadata": {
    "application/vnd.databricks.v1+cell": {
     "cellMetadata": {
      "byteLimit": 2048000,
      "implicitDf": true,
      "rowLimit": 10000
     },
     "inputWidgets": {},
     "nuid": "a2fd3b5e-1ed5-4cf1-b2c7-302d634acfa4",
     "showTitle": false,
     "tableResultSettingsMap": {},
     "title": ""
    }
   },
   "outputs": [],
   "source": [
    "%sql\n",
    "CREATE OR REPLACE FUNCTION agents.escalation.escalate_to_human(\n",
    "    user_id_input STRING COMMENT 'User ID needing escalation',\n",
    "    summary_input STRING COMMENT 'Brief summary of the conversation or issue'\n",
    ")\n",
    "RETURNS TABLE (\n",
    "    ticket_id STRING,\n",
    "    eta_minutes INT,\n",
    "    message STRING\n",
    ")\n",
    "COMMENT 'Creates a support ticket for human intervention, returns a ticket ID, estimated response time, and a user-facing message.'\n",
    "RETURN (\n",
    "    SELECT\n",
    "      CONCAT('TCK-', CAST(FLOOR(RAND() * 1000000) AS STRING)) AS ticket_id,\n",
    "      30 AS eta_minutes,\n",
    "      CONCAT('We have escalated your issue to a human support specialist. You can expect a response within ', 30, ' minutes.') AS message\n",
    ");\n"
   ]
  },
  {
   "cell_type": "code",
   "execution_count": 0,
   "metadata": {
    "application/vnd.databricks.v1+cell": {
     "cellMetadata": {},
     "inputWidgets": {},
     "nuid": "c9277955-be1d-4e9a-9dfd-5ff0cb0d963c",
     "showTitle": false,
     "tableResultSettingsMap": {},
     "title": ""
    }
   },
   "outputs": [],
   "source": []
  }
 ],
 "metadata": {
  "application/vnd.databricks.v1+notebook": {
   "computePreferences": {
    "hardware": {
     "accelerator": null,
     "gpuPoolId": null,
     "memory": null
    }
   },
   "dashboards": [],
   "environmentMetadata": {
    "base_environment": "",
    "dependencies": [
     "-r /Workspace/Users/real.anirvan@gmail.com/ai-agents-masterclass/requirements.txt"
    ],
    "environment_version": "3"
   },
   "inputWidgetPreferences": null,
   "language": "python",
   "notebookMetadata": {
    "mostRecentlyExecutedCommandWithImplicitDF": {
     "commandId": 2536345994917055,
     "dataframes": [
      "_sqldf"
     ]
    },
    "pythonIndentUnit": 4
   },
   "notebookName": "3.escalation_agent_tool_creation",
   "widgets": {}
  },
  "language_info": {
   "name": "python"
  }
 },
 "nbformat": 4,
 "nbformat_minor": 0
}
