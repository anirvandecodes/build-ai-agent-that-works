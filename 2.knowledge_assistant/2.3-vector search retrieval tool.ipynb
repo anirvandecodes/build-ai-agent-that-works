{
 "cells": [
  {
   "cell_type": "markdown",
   "metadata": {
    "application/vnd.databricks.v1+cell": {
     "cellMetadata": {
      "byteLimit": 2048000,
      "rowLimit": 10000
     },
     "inputWidgets": {},
     "nuid": "dc1eeac7-6dcd-4408-835d-c7daeed54f5f",
     "showTitle": false,
     "tableResultSettingsMap": {},
     "title": ""
    }
   },
   "source": [
    "\n",
    "# LangGraph with Vector Search Tool - RAG-Enabled AI Agent\n",
    "\n",
    "This code creates a **Retrieval-Augmented Generation (RAG)** system using LangGraph + Databricks Vector Search for intelligent document retrieval.\n",
    "\n",
    "## 🔧 **Setup & Components**\n",
    "- **LLM**: Databricks GPT OSS 120B model\n",
    "- **Vector Search**: Databricks Vector Search as a retrieval tool\n",
    "- **Graph**: LangGraph for orchestrating LLM + retrieval workflow\n",
    "\n",
    "## 🔍 **Vector Search Tool Configuration**\n",
    "```python\n",
    "vs_tool = VectorSearchRetrieverTool(\n",
    "  index_name=\"agents.main.foodly_policy_embedding_index\",\n",
    "  tool_name=\"foodly_policy_document_retrieval_tool\", \n",
    "  num_results=2,\n",
    "  tool_description=\"Search Foodly knowledge base for policies, procedures...\"\n",
    ")\n",
    "```\n",
    "- **Index**: Points to a pre-built vector index containing Foodly company documents\n",
    "- **Retrieval**: Returns top 2 most relevant document chunks\n",
    "- **Scope**: Searches policies, refund rules, delivery guidelines, etc.\n",
    "- **Smart description**: Helps LLM understand when to use this tool\n",
    "\n",
    "## 🤖 **LLM + Tool Integration**\n",
    "```python\n",
    "llm_with_tools = llm.bind_tools([vs_tool])  # LLM can now search documents\n",
    "```\n",
    "The LLM gains the ability to search through company documentation when needed.\n",
    "\n",
    "## 🕸️ **Graph Architecture**\n",
    "\n",
    "\n",
    "- **llm node**: Processes user queries and decides if document search is needed\n",
    "- **tools node**: Executes vector search to retrieve relevant documents  \n",
    "- **Conditional routing**: Automatically searches docs when LLM determines it's necessary\n",
    "\n",
    "## 🔄 **RAG Workflow**\n",
    "1. **User question**: e.g., *\"What's the refund policy?\"*\n",
    "2. **LLM analysis**: Determines this needs company policy information\n",
    "3. **Vector search**: Retrieves relevant policy documents from the index\n",
    "4. **Augmented response**: LLM answers using retrieved company documents\n",
    "5. **Accurate answer**: Response based on actual company policies, not general knowledge\n",
    "\n",
    "## 🎯 **Key Benefits**\n",
    "- **Up-to-date info**: Always uses current company documents\n",
    "- **Accurate responses**: Grounded in actual company policies\n",
    "- **Automatic retrieval**: LLM decides when to search documents\n",
    "- **Scalable**: Works with large document collections\n",
    "- **Enterprise-ready**: Uses Databricks' managed vector search\n",
    "\n",
    "This pattern enables AI assistants to provide accurate, company-specific answers by automatically retrieving relevant documentation when needed.\n"
   ]
  },
  {
   "cell_type": "code",
   "execution_count": 0,
   "metadata": {
    "application/vnd.databricks.v1+cell": {
     "cellMetadata": {
      "byteLimit": 2048000,
      "rowLimit": 10000
     },
     "inputWidgets": {},
     "nuid": "eb12ca16-abbe-4597-a69d-a0fa95b2afac",
     "showTitle": false,
     "tableResultSettingsMap": {},
     "title": ""
    }
   },
   "outputs": [],
   "source": [
    "from dotenv import load_dotenv\n",
    "import os\n",
    "from typing import Literal, TypedDict\n",
    "from langchain_core.messages import HumanMessage, SystemMessage\n",
    "from langgraph.graph.message import add_messages\n",
    "from typing_extensions import Annotated\n",
    "from langgraph.graph import StateGraph, START, END\n",
    "from langgraph.graph import MessagesState\n",
    "from langgraph.prebuilt.tool_node import ToolNode, tools_condition\n",
    "\n",
    "\n",
    "\n",
    "from databricks_langchain import (\n",
    "    ChatDatabricks,\n",
    "    VectorSearchRetrieverTool\n",
    ")\n",
    "\n",
    "\n",
    "\n",
    "# Initialize LLM\n",
    "llm = ChatDatabricks(endpoint=\"databricks-gpt-oss-120b\")\n",
    "\n",
    "\n",
    "\n",
    "def call_llm(state: MessagesState):\n",
    "    return {\"messages\": [llm_with_tools.invoke(state['messages'])]}\n",
    "\n",
    "\n",
    "# Initialize the retriever tool.\n",
    "vs_tool = VectorSearchRetrieverTool(\n",
    "  index_name=\"agents.main.foodly_policy_embedding_index\",\n",
    "  tool_name=\"foodly_policy_document_retrieval_tool\",\n",
    "  num_results=2,\n",
    "  tool_description=\"Use this tool to search the Foodly knowledge base for policies, procedures, and service-related information. It retrieves the most relevant chunks from the company’s official documentation, including refund rules, cancellation terms, delivery guidelines, loyalty program details, privacy policies, and escalation procedures\"\n",
    ")\n",
    "\n",
    "\n",
    "llm_with_tools = llm.bind_tools([vs_tool])\n",
    "\n",
    "builder = StateGraph(MessagesState)\n",
    "\n",
    "builder.add_node(\"llm\",call_llm)\n",
    "builder.add_node(\"tools\",ToolNode([vs_tool]))\n",
    "\n",
    "\n",
    "builder.add_edge(START,\"llm\")\n",
    "builder.add_conditional_edges(\"llm\" , tools_condition)\n",
    "builder.add_edge(\"tools\",\"llm\")\n",
    "\n",
    "\n",
    "agent = builder.compile()\n",
    "\n"
   ]
  },
  {
   "cell_type": "code",
   "execution_count": 0,
   "metadata": {
    "application/vnd.databricks.v1+cell": {
     "cellMetadata": {
      "byteLimit": 2048000,
      "rowLimit": 10000
     },
     "inputWidgets": {},
     "nuid": "fcb42fd9-1afa-4aec-b6d0-62d91a20e232",
     "showTitle": false,
     "tableResultSettingsMap": {},
     "title": ""
    }
   },
   "outputs": [],
   "source": [
    "messages = agent.invoke({\"messages\": [HumanMessage(\"What are refund policies for Foodly?\")]})\n",
    "\n",
    "last_message = messages[\"messages\"][-1].content\n",
    "print(last_message)"
   ]
  },
  {
   "cell_type": "markdown",
   "metadata": {
    "application/vnd.databricks.v1+cell": {
     "cellMetadata": {
      "byteLimit": 2048000,
      "rowLimit": 10000
     },
     "inputWidgets": {},
     "nuid": "10deafaf-0375-4955-8ea9-513dba3620c8",
     "showTitle": false,
     "tableResultSettingsMap": {},
     "title": ""
    }
   },
   "source": [
    "\n",
    "**Foodly Refund Policy – at a glance**\n",
    "\n",
    "| Situation | What you get | How it’s handled |\n",
    "|-----------|--------------|------------------|\n",
    "| **Order not delivered** (e.g., restaurant closed, no delivery partner available, extreme weather, system outage) | Full refund | Returned to the original payment method **or** issued instantly as Foodly credit. |\n",
    "| **Incorrect or missing items** (wrong dish, missing side, wrong quantity) | Partial refund or credit equal to the value of the missing/incorrect items | Refund is processed once the issue is verified (usually within 24 h). |\n",
    "| **Food‑quality problems** (spoiled, unsafe, contaminated) | Full refund **or** a free re‑delivery (if the restaurant can remake the order) | You can choose the preferred resolution; the refund/credit is applied immediately after approval. |\n",
    "| **Duplicate payment** (accidental double charge) | Refund of the extra charge(s) | Processed automatically once the duplicate is detected or reported. |\n",
    "| **Other eligible cases** (e.g., order cancelled by Foodly because a partner canceled) | Full refund | Same as above. |\n",
    "\n",
    "### Non‑Refundable Cases  \n",
    "Refunds are **not** issued for:\n",
    "\n",
    "* An incorrect address supplied by the customer.  \n",
    "* The customer being unreachable at the time of delivery.  \n",
    "* Personal taste preferences (e.g., “too spicy” or “too bland”).  \n",
    "* Delays caused by external factors (traffic, weather, local restrictions) **unless** the delivery is **> 90 minutes** later than the ETA.\n",
    "\n",
    "### Refund Timelines  \n",
    "\n",
    "| Refund type | Typical processing time |\n",
    "|-------------|--------------------------|\n",
    "| **Bank or card refunds** | 5–7 business days (depends on the card issuer). |\n",
    "| **Foodly credits** | Instant – you see the credit in the app as soon as the refund is approved. |\n",
    "| **Notification** | You receive an in‑app notification and an email confirming the refund. |\n",
    "\n",
    "### How to Request a Refund  \n",
    "\n",
    "1. **Open the order** in the Foodly app.  \n",
    "2. Tap **“Report an Issue”** and select the appropriate reason (e.g., “Missing items,” “Food quality,” “Did not receive order,” etc.).  \n",
    "3. Provide any relevant details or photos (especially for quality issues).  \n",
    "4. Submit – Foodly’s support team will review the case, usually within a few hours, and will either:  \n",
    "   * Approve a full/partial refund, or  \n",
    "   * Offer a Foodly credit or re‑delivery.  \n",
    "\n",
    "If you don’t see a resolution within 24 hours, you can follow up via the **Help Center** or contact **Live Chat** for escalation.\n",
    "\n",
    "---\n",
    "\n",
    "**Bottom line:** You’re eligible for a refund (or credit) when Foodly is at fault—undelivered orders, missing/incorrect items, unsafe food, or duplicate charges. Personal preference issues and address errors are excluded. Refunds to cards take a few business days; Foodly credits are immediate. If you need help, start the “Report an Issue” flow in the app."
   ]
  },
  {
   "cell_type": "code",
   "execution_count": 0,
   "metadata": {
    "application/vnd.databricks.v1+cell": {
     "cellMetadata": {
      "byteLimit": 2048000,
      "rowLimit": 10000
     },
     "inputWidgets": {},
     "nuid": "d434e065-0c9b-4997-991a-70ff94866b4a",
     "showTitle": false,
     "tableResultSettingsMap": {},
     "title": ""
    }
   },
   "outputs": [],
   "source": [
    "messages = agent.invoke({\"messages\": [HumanMessage(\"What are refund policies for Foodly?\")]})\n",
    "\n",
    "last_message = messages[\"messages\"][-1].content\n",
    "\n",
    "\n",
    "import markdown\n",
    "\n",
    "# Convert markdown → HTML\n",
    "html = markdown.markdown(last_message, extensions=[\"tables\", \"fenced_code\"] )\n",
    "\n",
    "# Render in the notebook automatically\n",
    "displayHTML(html)"
   ]
  },
  {
   "cell_type": "markdown",
   "metadata": {
    "application/vnd.databricks.v1+cell": {
     "cellMetadata": {
      "byteLimit": 2048000,
      "rowLimit": 10000
     },
     "inputWidgets": {},
     "nuid": "5bc3e5bf-2c46-411e-a2bc-2f6d2d8a477d",
     "showTitle": false,
     "tableResultSettingsMap": {},
     "title": ""
    }
   },
   "source": [
    "\n"
   ]
  },
  {
   "cell_type": "code",
   "execution_count": 0,
   "metadata": {
    "application/vnd.databricks.v1+cell": {
     "cellMetadata": {
      "byteLimit": 2048000,
      "rowLimit": 10000
     },
     "inputWidgets": {},
     "nuid": "9dee51ba-11e5-4b3a-9849-395a595d9a5f",
     "showTitle": false,
     "tableResultSettingsMap": {},
     "title": ""
    }
   },
   "outputs": [],
   "source": [
    "messages = agent.invoke({\"messages\": [HumanMessage(\"I bought it like 10 days ago , can i make the refund?\")]})\n",
    "\n",
    "last_message = messages[\"messages\"][-1].content\n",
    "print(last_message)"
   ]
  },
  {
   "cell_type": "code",
   "execution_count": 0,
   "metadata": {
    "application/vnd.databricks.v1+cell": {
     "cellMetadata": {
      "byteLimit": 2048000,
      "rowLimit": 10000
     },
     "inputWidgets": {},
     "nuid": "a4159350-9127-415a-9061-d0d350a5cc5a",
     "showTitle": false,
     "tableResultSettingsMap": {},
     "title": ""
    }
   },
   "outputs": [],
   "source": [
    "messages = agent.invoke({\"messages\": [HumanMessage(\"check the order number 345555\")]})\n",
    "\n",
    "last_message = messages[\"messages\"][-1].content\n",
    "print(last_message)"
   ]
  }
 ],
 "metadata": {
  "application/vnd.databricks.v1+notebook": {
   "computePreferences": {
    "hardware": {
     "accelerator": null,
     "gpuPoolId": null,
     "memory": null
    }
   },
   "dashboards": [],
   "environmentMetadata": {
    "base_environment": "",
    "dependencies": [
     "-r /Workspace/Users/real.anirvan@gmail.com/build-ai-agent-that-works/requirements.txt"
    ],
    "environment_version": "3"
   },
   "inputWidgetPreferences": null,
   "language": "python",
   "notebookMetadata": {
    "pythonIndentUnit": 4
   },
   "notebookName": "2.3-vector search retrieval tool",
   "widgets": {}
  },
  "language_info": {
   "name": "python"
  }
 },
 "nbformat": 4,
 "nbformat_minor": 0
}
