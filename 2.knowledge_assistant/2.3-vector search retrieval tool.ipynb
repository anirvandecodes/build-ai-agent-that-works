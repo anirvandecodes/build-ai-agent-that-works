{
 "cells": [
  {
   "cell_type": "code",
   "execution_count": 0,
   "metadata": {
    "application/vnd.databricks.v1+cell": {
     "cellMetadata": {
      "byteLimit": 2048000,
      "rowLimit": 10000
     },
     "inputWidgets": {},
     "nuid": "eb12ca16-abbe-4597-a69d-a0fa95b2afac",
     "showTitle": false,
     "tableResultSettingsMap": {},
     "title": ""
    }
   },
   "outputs": [],
   "source": [
    "from dotenv import load_dotenv\n",
    "import os\n",
    "from typing import Literal, TypedDict\n",
    "from langchain_core.messages import HumanMessage, SystemMessage\n",
    "from langgraph.graph.message import add_messages\n",
    "from typing_extensions import Annotated\n",
    "from langgraph.graph import StateGraph, START, END\n",
    "from langgraph.graph import MessagesState\n",
    "from langgraph.prebuilt.tool_node import ToolNode, tools_condition\n",
    "\n",
    "\n",
    "\n",
    "from databricks_langchain import (\n",
    "    ChatDatabricks,\n",
    "    VectorSearchRetrieverTool\n",
    ")\n",
    "\n",
    "\n",
    "\n",
    "# Initialize LLM\n",
    "llm = ChatDatabricks(endpoint=\"databricks-gpt-oss-120b\")\n",
    "\n",
    "\n",
    "\n",
    "def call_llm(state: MessagesState):\n",
    "    return {\"messages\": [llm_with_tools.invoke(state['messages'])]}\n",
    "\n",
    "\n",
    "# Initialize the retriever tool.\n",
    "vs_tool = VectorSearchRetrieverTool(\n",
    "  index_name=\"agents.main.foodly_policy_embedding_index\",\n",
    "  tool_name=\"foodly_policy_document_retrieval_tool\",\n",
    "  num_results=2,\n",
    "  tool_description=\"Use this tool to search the Foodly knowledge base for policies, procedures, and service-related information. It retrieves the most relevant chunks from the company’s official documentation, including refund rules, cancellation terms, delivery guidelines, loyalty program details, privacy policies, and escalation procedures\"\n",
    ")\n",
    "\n",
    "\n",
    "llm_with_tools = llm.bind_tools([vs_tool])\n",
    "\n",
    "builder = StateGraph(MessagesState)\n",
    "\n",
    "builder.add_node(\"llm\",call_llm)\n",
    "builder.add_node(\"tools\",ToolNode([vs_tool]))\n",
    "\n",
    "\n",
    "builder.add_edge(START,\"llm\")\n",
    "builder.add_conditional_edges(\"llm\" , tools_condition)\n",
    "builder.add_edge(\"tools\",\"llm\")\n",
    "\n",
    "\n",
    "agent = builder.compile()\n",
    "\n"
   ]
  },
  {
   "cell_type": "code",
   "execution_count": 0,
   "metadata": {
    "application/vnd.databricks.v1+cell": {
     "cellMetadata": {
      "byteLimit": 2048000,
      "rowLimit": 10000
     },
     "inputWidgets": {},
     "nuid": "fcb42fd9-1afa-4aec-b6d0-62d91a20e232",
     "showTitle": false,
     "tableResultSettingsMap": {},
     "title": ""
    }
   },
   "outputs": [],
   "source": [
    "messages = agent.invoke({\"messages\": [HumanMessage(\"What are refund policies for Foodly?\")]})\n",
    "\n",
    "last_message = messages[\"messages\"][-1].content\n",
    "print(last_message)"
   ]
  },
  {
   "cell_type": "markdown",
   "metadata": {
    "application/vnd.databricks.v1+cell": {
     "cellMetadata": {},
     "inputWidgets": {},
     "nuid": "10deafaf-0375-4955-8ea9-513dba3620c8",
     "showTitle": false,
     "tableResultSettingsMap": {},
     "title": ""
    }
   },
   "source": [
    "\n",
    "**Foodly Refund Policy – at a glance**\n",
    "\n",
    "| Situation | What you get | How it’s handled |\n",
    "|-----------|--------------|------------------|\n",
    "| **Order not delivered** (e.g., restaurant closed, no delivery partner available, extreme weather, system outage) | Full refund | Returned to the original payment method **or** issued instantly as Foodly credit. |\n",
    "| **Incorrect or missing items** (wrong dish, missing side, wrong quantity) | Partial refund or credit equal to the value of the missing/incorrect items | Refund is processed once the issue is verified (usually within 24 h). |\n",
    "| **Food‑quality problems** (spoiled, unsafe, contaminated) | Full refund **or** a free re‑delivery (if the restaurant can remake the order) | You can choose the preferred resolution; the refund/credit is applied immediately after approval. |\n",
    "| **Duplicate payment** (accidental double charge) | Refund of the extra charge(s) | Processed automatically once the duplicate is detected or reported. |\n",
    "| **Other eligible cases** (e.g., order cancelled by Foodly because a partner canceled) | Full refund | Same as above. |\n",
    "\n",
    "### Non‑Refundable Cases  \n",
    "Refunds are **not** issued for:\n",
    "\n",
    "* An incorrect address supplied by the customer.  \n",
    "* The customer being unreachable at the time of delivery.  \n",
    "* Personal taste preferences (e.g., “too spicy” or “too bland”).  \n",
    "* Delays caused by external factors (traffic, weather, local restrictions) **unless** the delivery is **> 90 minutes** later than the ETA.\n",
    "\n",
    "### Refund Timelines  \n",
    "\n",
    "| Refund type | Typical processing time |\n",
    "|-------------|--------------------------|\n",
    "| **Bank or card refunds** | 5–7 business days (depends on the card issuer). |\n",
    "| **Foodly credits** | Instant – you see the credit in the app as soon as the refund is approved. |\n",
    "| **Notification** | You receive an in‑app notification and an email confirming the refund. |\n",
    "\n",
    "### How to Request a Refund  \n",
    "\n",
    "1. **Open the order** in the Foodly app.  \n",
    "2. Tap **“Report an Issue”** and select the appropriate reason (e.g., “Missing items,” “Food quality,” “Did not receive order,” etc.).  \n",
    "3. Provide any relevant details or photos (especially for quality issues).  \n",
    "4. Submit – Foodly’s support team will review the case, usually within a few hours, and will either:  \n",
    "   * Approve a full/partial refund, or  \n",
    "   * Offer a Foodly credit or re‑delivery.  \n",
    "\n",
    "If you don’t see a resolution within 24 hours, you can follow up via the **Help Center** or contact **Live Chat** for escalation.\n",
    "\n",
    "---\n",
    "\n",
    "**Bottom line:** You’re eligible for a refund (or credit) when Foodly is at fault—undelivered orders, missing/incorrect items, unsafe food, or duplicate charges. Personal preference issues and address errors are excluded. Refunds to cards take a few business days; Foodly credits are immediate. If you need help, start the “Report an Issue” flow in the app."
   ]
  },
  {
   "cell_type": "code",
   "execution_count": 0,
   "metadata": {
    "application/vnd.databricks.v1+cell": {
     "cellMetadata": {
      "byteLimit": 2048000,
      "rowLimit": 10000
     },
     "inputWidgets": {},
     "nuid": "d434e065-0c9b-4997-991a-70ff94866b4a",
     "showTitle": false,
     "tableResultSettingsMap": {},
     "title": ""
    }
   },
   "outputs": [],
   "source": [
    "messages = agent.invoke({\"messages\": [HumanMessage(\"What are refund policies for Foodly?\")]})\n",
    "\n",
    "last_message = messages[\"messages\"][-1].content\n",
    "\n",
    "\n",
    "import markdown\n",
    "\n",
    "# Convert markdown → HTML\n",
    "html = markdown.markdown(last_message, extensions=[\"tables\", \"fenced_code\"] )\n",
    "\n",
    "# Render in the notebook automatically\n",
    "displayHTML(html)"
   ]
  },
  {
   "cell_type": "markdown",
   "metadata": {
    "application/vnd.databricks.v1+cell": {
     "cellMetadata": {},
     "inputWidgets": {},
     "nuid": "5bc3e5bf-2c46-411e-a2bc-2f6d2d8a477d",
     "showTitle": false,
     "tableResultSettingsMap": {},
     "title": ""
    }
   },
   "source": [
    "\n"
   ]
  },
  {
   "cell_type": "code",
   "execution_count": 0,
   "metadata": {
    "application/vnd.databricks.v1+cell": {
     "cellMetadata": {
      "byteLimit": 2048000,
      "rowLimit": 10000
     },
     "inputWidgets": {},
     "nuid": "9dee51ba-11e5-4b3a-9849-395a595d9a5f",
     "showTitle": false,
     "tableResultSettingsMap": {},
     "title": ""
    }
   },
   "outputs": [],
   "source": [
    "messages = agent.invoke({\"messages\": [HumanMessage(\"I bought it like 10 days ago , can i make the refund?\")]})\n",
    "\n",
    "last_message = messages[\"messages\"][-1].content\n",
    "print(last_message)"
   ]
  },
  {
   "cell_type": "code",
   "execution_count": 0,
   "metadata": {
    "application/vnd.databricks.v1+cell": {
     "cellMetadata": {
      "byteLimit": 2048000,
      "rowLimit": 10000
     },
     "inputWidgets": {},
     "nuid": "a4159350-9127-415a-9061-d0d350a5cc5a",
     "showTitle": false,
     "tableResultSettingsMap": {},
     "title": ""
    }
   },
   "outputs": [],
   "source": [
    "messages = agent.invoke({\"messages\": [HumanMessage(\"check the order number 345555\")]})\n",
    "\n",
    "last_message = messages[\"messages\"][-1].content\n",
    "print(last_message)"
   ]
  }
 ],
 "metadata": {
  "application/vnd.databricks.v1+notebook": {
   "computePreferences": {
    "hardware": {
     "accelerator": null,
     "gpuPoolId": null,
     "memory": null
    }
   },
   "dashboards": [],
   "environmentMetadata": {
    "base_environment": "",
    "dependencies": [
     "-r /Workspace/Users/real.anirvan@gmail.com/ai-agents-masterclass/requirements.txt"
    ],
    "environment_version": "3"
   },
   "inputWidgetPreferences": null,
   "language": "python",
   "notebookMetadata": {
    "pythonIndentUnit": 4
   },
   "notebookName": "2.3-vector search retrieval tool",
   "widgets": {}
  },
  "language_info": {
   "name": "python"
  }
 },
 "nbformat": 4,
 "nbformat_minor": 0
}
