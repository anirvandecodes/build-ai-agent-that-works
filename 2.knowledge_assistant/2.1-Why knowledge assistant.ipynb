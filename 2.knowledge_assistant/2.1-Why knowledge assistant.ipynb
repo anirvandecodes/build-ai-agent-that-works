{
 "cells": [
  {
   "cell_type": "code",
   "execution_count": 0,
   "metadata": {
    "application/vnd.databricks.v1+cell": {
     "cellMetadata": {
      "byteLimit": 2048000,
      "rowLimit": 10000
     },
     "inputWidgets": {},
     "nuid": "eb12ca16-abbe-4597-a69d-a0fa95b2afac",
     "showTitle": false,
     "tableResultSettingsMap": {},
     "title": ""
    }
   },
   "outputs": [],
   "source": [
    "from dotenv import load_dotenv\n",
    "import os\n",
    "from typing import Literal, TypedDict\n",
    "from langchain_core.messages import HumanMessage, SystemMessage\n",
    "from langgraph.graph.message import add_messages\n",
    "from typing_extensions import Annotated\n",
    "from databricks_langchain import ChatDatabricks\n",
    "from langgraph.graph import StateGraph, START, END\n",
    "from langgraph.graph import MessagesState\n",
    "\n",
    "# Initialize LLM\n",
    "llm = ChatDatabricks(endpoint=\"databricks-gpt-oss-120b\")\n",
    "\n",
    "def call_llm(state: MessagesState):\n",
    "    \"\"\"Node to call the LLM with a formatted prompt based on the latest user question.\"\"\"\n",
    "    \n",
    "    \n",
    "    # Build the prompt\n",
    "    prompt_template = (\n",
    "        \"You are an expert AI assistant. Answer the user's question with clarity, accuracy, and conciseness.\\n\\n\"\n",
    "        \"## Question:\\n\"\n",
    "        \"{question}\\n\\n\"\n",
    "        \"## Guidelines:\\n\"\n",
    "        \"- Keep responses factual and to the point.\\n\"\n",
    "        \"- If relevant, provide examples or step-by-step instructions.\\n\"\n",
    "        \"- If the question is ambiguous, clarify before answering.\\n\\n\"\n",
    "        \"Respond below:\"\n",
    "    )\n",
    "    formatted_prompt = prompt_template.format(question=state['messages'])\n",
    "\n",
    "    # Construct the message list for the model\n",
    "    all_msgs = [\n",
    "        SystemMessage(content=\"You are an expert AI assistant.\"),\n",
    "        HumanMessage(content=formatted_prompt)\n",
    "    ]\n",
    "\n",
    "    # Call the LLM\n",
    "    response = llm.invoke(all_msgs)\n",
    "\n",
    "    return {\"messages\": state[\"messages\"] + [response]}\n",
    "\n",
    "# Build the graph\n",
    "builder = StateGraph(MessagesState)\n",
    "builder.add_node(\"call_llm\", call_llm)\n",
    "\n",
    "builder.add_edge(START, \"call_llm\")\n",
    "builder.add_edge(\"call_llm\", END)\n",
    "\n",
    "graph = builder.compile()\n",
    "\n",
    "# Example run\n",
    "messages = graph.invoke({\n",
    "    \"messages\": [HumanMessage(content=\"What is the return policy for Anirvan Decodes ecommerce products?\")]\n",
    "})\n"
   ]
  },
  {
   "cell_type": "code",
   "execution_count": 0,
   "metadata": {
    "application/vnd.databricks.v1+cell": {
     "cellMetadata": {
      "byteLimit": 2048000,
      "rowLimit": 10000
     },
     "inputWidgets": {},
     "nuid": "cc628c1f-fb86-480c-a923-04affb8ba5dd",
     "showTitle": false,
     "tableResultSettingsMap": {},
     "title": ""
    }
   },
   "outputs": [],
   "source": [
    "message = messages['messages'][-1]\n",
    "\n",
    "for part in message.content:\n",
    "    if part.get(\"type\") == \"text\":\n",
    "       ai_message = part.get(\"text\", \"\")\n",
    "\n",
    "print(ai_message)"
   ]
  },
  {
   "cell_type": "markdown",
   "metadata": {
    "application/vnd.databricks.v1+cell": {
     "cellMetadata": {},
     "inputWidgets": {},
     "nuid": "f0f28824-e9dc-49e7-b1a5-cfc1bd0787c9",
     "showTitle": false,
     "tableResultSettingsMap": {},
     "title": ""
    }
   },
   "source": [
    "\n",
    "## This is where we need RAG"
   ]
  },
  {
   "cell_type": "markdown",
   "metadata": {
    "application/vnd.databricks.v1+cell": {
     "cellMetadata": {},
     "inputWidgets": {},
     "nuid": "12435257-eb98-4907-a824-717075c65ba5",
     "showTitle": false,
     "tableResultSettingsMap": {},
     "title": ""
    }
   },
   "source": [
    "\n",
    "## Why We Need RAG (Retrieval-Augmented Generation)\n",
    "\n",
    "### 🧠 LLMs don’t know everything\n",
    "- They’re trained on data up to a certain time.  \n",
    "- They can’t magically know your company policies, recent data, or private documents.\n",
    "\n",
    "### 🤔 LLMs can “hallucinate”\n",
    "- Sometimes they just make stuff up — confidently!  \n",
    "- Without grounding in real data, they may generate wrong or outdated answers.\n",
    "\n",
    "### 🔄 Knowledge changes\n",
    "- Laws, prices, product specs — they all change.  \n",
    "- You don’t want to retrain or fine-tune a giant model every time something updates.\n",
    "\n",
    "### 🏢 You need domain-specific answers\n",
    "- Example: A bank chatbot answering questions about your bank’s loans — it needs **your** documents, not just generic financial knowledge.\n",
    "\n",
    "### ⚡ Cheaper & faster than fine-tuning\n",
    "- Instead of retraining an entire model, you just fetch relevant info (retrieval) and pass it along with the question.  \n",
    "- That way, the model uses the right context instantly.\n"
   ]
  },
  {
   "cell_type": "markdown",
   "metadata": {
    "application/vnd.databricks.v1+cell": {
     "cellMetadata": {},
     "inputWidgets": {},
     "nuid": "ca5ed520-338b-485e-a8f7-17eb571a884d",
     "showTitle": false,
     "tableResultSettingsMap": {},
     "title": ""
    }
   },
   "source": []
  },
  {
   "cell_type": "markdown",
   "metadata": {
    "application/vnd.databricks.v1+cell": {
     "cellMetadata": {},
     "inputWidgets": {},
     "nuid": "abc5e1a5-512a-4f50-8e30-765a4067a7c5",
     "showTitle": false,
     "tableResultSettingsMap": {},
     "title": ""
    }
   },
   "source": []
  },
  {
   "cell_type": "markdown",
   "metadata": {
    "application/vnd.databricks.v1+cell": {
     "cellMetadata": {},
     "inputWidgets": {},
     "nuid": "cec15eca-59d9-49f5-b2d9-62d42af97478",
     "showTitle": false,
     "tableResultSettingsMap": {},
     "title": ""
    }
   },
   "source": []
  },
  {
   "cell_type": "markdown",
   "metadata": {
    "application/vnd.databricks.v1+cell": {
     "cellMetadata": {},
     "inputWidgets": {},
     "nuid": "1b679a46-cdfa-41a1-9ccc-6797afc65796",
     "showTitle": false,
     "tableResultSettingsMap": {},
     "title": ""
    }
   },
   "source": []
  },
  {
   "cell_type": "markdown",
   "metadata": {
    "application/vnd.databricks.v1+cell": {
     "cellMetadata": {},
     "inputWidgets": {},
     "nuid": "c3a023d2-3207-44ac-95a2-a6f58e6e78c4",
     "showTitle": false,
     "tableResultSettingsMap": {},
     "title": ""
    }
   },
   "source": []
  },
  {
   "cell_type": "markdown",
   "metadata": {
    "application/vnd.databricks.v1+cell": {
     "cellMetadata": {},
     "inputWidgets": {},
     "nuid": "a9b2be68-b66b-4745-973a-da4eaf62e5be",
     "showTitle": false,
     "tableResultSettingsMap": {},
     "title": ""
    }
   },
   "source": []
  },
  {
   "cell_type": "markdown",
   "metadata": {
    "application/vnd.databricks.v1+cell": {
     "cellMetadata": {},
     "inputWidgets": {},
     "nuid": "6dcc0029-da8f-4d5f-9def-439495b10741",
     "showTitle": false,
     "tableResultSettingsMap": {},
     "title": ""
    }
   },
   "source": [
    "## What’s the problem with plain keyword search?\n",
    "- Computers match **exact words**, not **meaning**.\n",
    "- If a user types: “**laptop battery problem**”\n",
    "  - Keyword search may **miss** a doc that says: “**notebook isn’t charging**”\n",
    "  - Different words, **same idea** → missed!\n",
    "\n"
   ]
  },
  {
   "cell_type": "markdown",
   "metadata": {
    "application/vnd.databricks.v1+cell": {
     "cellMetadata": {},
     "inputWidgets": {},
     "nuid": "ea1bc728-52fa-4ea1-8b7b-74dbe9dc4dc5",
     "showTitle": false,
     "tableResultSettingsMap": {},
     "title": ""
    }
   },
   "source": []
  },
  {
   "cell_type": "markdown",
   "metadata": {
    "application/vnd.databricks.v1+cell": {
     "cellMetadata": {},
     "inputWidgets": {},
     "nuid": "e6f0605c-654e-4b16-b2eb-23432dd4ce80",
     "showTitle": false,
     "tableResultSettingsMap": {},
     "title": ""
    }
   },
   "source": []
  },
  {
   "cell_type": "markdown",
   "metadata": {
    "application/vnd.databricks.v1+cell": {
     "cellMetadata": {},
     "inputWidgets": {},
     "nuid": "43aadb40-23b3-4158-bbdd-a20173fe4d0f",
     "showTitle": false,
     "tableResultSettingsMap": {},
     "title": ""
    }
   },
   "source": []
  },
  {
   "cell_type": "markdown",
   "metadata": {
    "application/vnd.databricks.v1+cell": {
     "cellMetadata": {},
     "inputWidgets": {},
     "nuid": "91df5cd9-a1e9-4168-a49c-1b28322b6344",
     "showTitle": false,
     "tableResultSettingsMap": {},
     "title": ""
    }
   },
   "source": []
  },
  {
   "cell_type": "markdown",
   "metadata": {
    "application/vnd.databricks.v1+cell": {
     "cellMetadata": {},
     "inputWidgets": {},
     "nuid": "546d197c-d114-4001-be3d-196494576d48",
     "showTitle": false,
     "tableResultSettingsMap": {},
     "title": ""
    }
   },
   "source": []
  },
  {
   "cell_type": "markdown",
   "metadata": {
    "application/vnd.databricks.v1+cell": {
     "cellMetadata": {},
     "inputWidgets": {},
     "nuid": "6cb37cde-8eb8-4a56-9088-55b6dd4d1785",
     "showTitle": false,
     "tableResultSettingsMap": {},
     "title": ""
    }
   },
   "source": []
  },
  {
   "cell_type": "markdown",
   "metadata": {
    "application/vnd.databricks.v1+cell": {
     "cellMetadata": {},
     "inputWidgets": {},
     "nuid": "368874ff-2710-440e-8baf-6b074161ae12",
     "showTitle": false,
     "tableResultSettingsMap": {},
     "title": ""
    }
   },
   "source": [
    "\n",
    "## What’s an embedding (in plain words)?\n",
    "An **embedding** turns text into a list of numbers (a vector) that captures **meaning**.\n",
    "- Items with **similar meaning** → vectors are **close** together.\n",
    "- Items with **different meaning** → vectors are **far** apart.\n",
    "\n",
    "Think of a giant map:\n",
    "- “laptop” and “notebook” are neighbors.\n",
    "- “banana” is far away from both."
   ]
  },
  {
   "cell_type": "markdown",
   "metadata": {
    "application/vnd.databricks.v1+cell": {
     "cellMetadata": {},
     "inputWidgets": {},
     "nuid": "3d62d494-ae43-4bce-b530-26aed8916dc6",
     "showTitle": false,
     "tableResultSettingsMap": {},
     "title": ""
    }
   },
   "source": []
  },
  {
   "cell_type": "markdown",
   "metadata": {
    "application/vnd.databricks.v1+cell": {
     "cellMetadata": {},
     "inputWidgets": {},
     "nuid": "ca35597b-02b3-4775-b7ce-cc02fb68e7fa",
     "showTitle": false,
     "tableResultSettingsMap": {},
     "title": ""
    }
   },
   "source": []
  },
  {
   "cell_type": "markdown",
   "metadata": {
    "application/vnd.databricks.v1+cell": {
     "cellMetadata": {},
     "inputWidgets": {},
     "nuid": "fac00142-561f-4990-b369-048670dae622",
     "showTitle": false,
     "tableResultSettingsMap": {},
     "title": ""
    }
   },
   "source": []
  },
  {
   "cell_type": "markdown",
   "metadata": {
    "application/vnd.databricks.v1+cell": {
     "cellMetadata": {},
     "inputWidgets": {},
     "nuid": "56295696-2e6e-4a85-b5d0-5ecd16a92d1a",
     "showTitle": false,
     "tableResultSettingsMap": {},
     "title": ""
    }
   },
   "source": []
  },
  {
   "cell_type": "markdown",
   "metadata": {
    "application/vnd.databricks.v1+cell": {
     "cellMetadata": {},
     "inputWidgets": {},
     "nuid": "eec421aa-1cd3-43d5-abc9-74b6e0dd3fd2",
     "showTitle": false,
     "tableResultSettingsMap": {},
     "title": ""
    }
   },
   "source": []
  },
  {
   "cell_type": "markdown",
   "metadata": {
    "application/vnd.databricks.v1+cell": {
     "cellMetadata": {},
     "inputWidgets": {},
     "nuid": "54b2119f-48cb-4987-af70-7e02f9041c59",
     "showTitle": false,
     "tableResultSettingsMap": {},
     "title": ""
    }
   },
   "source": []
  },
  {
   "cell_type": "markdown",
   "metadata": {
    "application/vnd.databricks.v1+cell": {
     "cellMetadata": {},
     "inputWidgets": {},
     "nuid": "aef1fa15-9bf7-446e-be32-f828e4d5983f",
     "showTitle": false,
     "tableResultSettingsMap": {},
     "title": ""
    }
   },
   "source": []
  },
  {
   "cell_type": "markdown",
   "metadata": {
    "application/vnd.databricks.v1+cell": {
     "cellMetadata": {},
     "inputWidgets": {},
     "nuid": "c9720e46-06db-47c3-8ab1-970c7b222e17",
     "showTitle": false,
     "tableResultSettingsMap": {},
     "title": ""
    }
   },
   "source": [
    "| Sentence                 | X (Topic) | Y (Tone) | Z (Sentiment) |\n",
    "| ------------------------ | --------- | -------- | ------------- |\n",
    "| “How to bake a cake”     | 0.9       | 0.2      | 0.8           |\n",
    "| “Cooking is fun”         | 0.8       | 0.1      | 0.9           |\n",
    "| “AI models are powerful” | 0.2       | 0.8      | 0.6           |\n",
    "| “I hate bad food”        | 0.7       | 0.3      | 0.1           |\n"
   ]
  },
  {
   "cell_type": "markdown",
   "metadata": {
    "application/vnd.databricks.v1+cell": {
     "cellMetadata": {},
     "inputWidgets": {},
     "nuid": "1323dd53-da57-4b0c-9c91-c120feddd69f",
     "showTitle": false,
     "tableResultSettingsMap": {},
     "title": ""
    }
   },
   "source": []
  },
  {
   "cell_type": "markdown",
   "metadata": {
    "application/vnd.databricks.v1+cell": {
     "cellMetadata": {},
     "inputWidgets": {},
     "nuid": "5cfae6d0-838c-4354-9e12-bb38465a94a1",
     "showTitle": false,
     "tableResultSettingsMap": {},
     "title": ""
    }
   },
   "source": []
  },
  {
   "cell_type": "markdown",
   "metadata": {
    "application/vnd.databricks.v1+cell": {
     "cellMetadata": {},
     "inputWidgets": {},
     "nuid": "a38839f4-7c37-42d4-8b55-17a3ed267317",
     "showTitle": false,
     "tableResultSettingsMap": {},
     "title": ""
    }
   },
   "source": []
  },
  {
   "cell_type": "markdown",
   "metadata": {
    "application/vnd.databricks.v1+cell": {
     "cellMetadata": {},
     "inputWidgets": {},
     "nuid": "589ab058-5fca-49a6-97ee-e11719153342",
     "showTitle": false,
     "tableResultSettingsMap": {},
     "title": ""
    }
   },
   "source": []
  },
  {
   "cell_type": "markdown",
   "metadata": {
    "application/vnd.databricks.v1+cell": {
     "cellMetadata": {},
     "inputWidgets": {},
     "nuid": "152bd457-e232-4a4b-ad2a-f4e0c9489053",
     "showTitle": false,
     "tableResultSettingsMap": {},
     "title": ""
    }
   },
   "source": []
  },
  {
   "cell_type": "markdown",
   "metadata": {
    "application/vnd.databricks.v1+cell": {
     "cellMetadata": {},
     "inputWidgets": {},
     "nuid": "314ae495-8150-435e-9036-fc4d24119370",
     "showTitle": false,
     "tableResultSettingsMap": {},
     "title": ""
    }
   },
   "source": []
  },
  {
   "cell_type": "markdown",
   "metadata": {
    "application/vnd.databricks.v1+cell": {
     "cellMetadata": {},
     "inputWidgets": {},
     "nuid": "de3de77d-a60e-4073-b950-bf8591d67a65",
     "showTitle": false,
     "tableResultSettingsMap": {},
     "title": ""
    }
   },
   "source": [
    "![formula.png](./formula.png \"formula.png\")"
   ]
  },
  {
   "cell_type": "markdown",
   "metadata": {
    "application/vnd.databricks.v1+cell": {
     "cellMetadata": {},
     "inputWidgets": {},
     "nuid": "f64e4219-2223-4678-a8fa-413a17ef5d54",
     "showTitle": false,
     "tableResultSettingsMap": {},
     "title": ""
    }
   },
   "source": [
    "\n",
    "## Example: “How to bake a cake” vs “Cooking is fun”\n",
    "\n",
    "Vector1 = [0.9, 0.2, 0.8]\n",
    "Vector2 = [0.8, 0.1, 0.9]\n",
    "\n",
    "\n",
    "Euclidean distance between this two vector is ≈ 0.173  → very small → very similar\n",
    " \n"
   ]
  },
  {
   "cell_type": "markdown",
   "metadata": {
    "application/vnd.databricks.v1+cell": {
     "cellMetadata": {},
     "inputWidgets": {},
     "nuid": "a8bd8c8d-305b-479d-b0ce-1526ce3bc3ff",
     "showTitle": false,
     "tableResultSettingsMap": {},
     "title": ""
    }
   },
   "source": [
    "### Example: “How to bake a cake” vs “AI models are powerful”\n",
    "\n",
    "\n",
    "Euclidean distance between this two vector is ≈ 0.943 → far → not similar\n",
    "\n"
   ]
  },
  {
   "cell_type": "markdown",
   "metadata": {
    "application/vnd.databricks.v1+cell": {
     "cellMetadata": {},
     "inputWidgets": {},
     "nuid": "3a60079d-9053-42e2-99c1-44d448142940",
     "showTitle": false,
     "tableResultSettingsMap": {},
     "title": ""
    }
   },
   "source": [
    "✅ Short explanation:\n",
    "\n",
    "“How to bake a cake” and “Cooking is fun” are close in topic, tone, and sentiment → match\n",
    "\n",
    "“How to bake a cake” and “AI models are powerful” are far apart in topic → don’t match"
   ]
  },
  {
   "cell_type": "markdown",
   "metadata": {
    "application/vnd.databricks.v1+cell": {
     "cellMetadata": {},
     "inputWidgets": {},
     "nuid": "82e48410-7e40-4010-beda-184a37e9f7dc",
     "showTitle": false,
     "tableResultSettingsMap": {},
     "title": ""
    }
   },
   "source": []
  },
  {
   "cell_type": "markdown",
   "metadata": {
    "application/vnd.databricks.v1+cell": {
     "cellMetadata": {},
     "inputWidgets": {},
     "nuid": "92946114-497e-4635-83ef-d82acb0eee1e",
     "showTitle": false,
     "tableResultSettingsMap": {},
     "title": ""
    }
   },
   "source": []
  },
  {
   "cell_type": "markdown",
   "metadata": {
    "application/vnd.databricks.v1+cell": {
     "cellMetadata": {},
     "inputWidgets": {},
     "nuid": "8bf1da13-cb85-4348-a079-8d70f0d7b5bb",
     "showTitle": false,
     "tableResultSettingsMap": {},
     "title": ""
    }
   },
   "source": []
  },
  {
   "cell_type": "markdown",
   "metadata": {
    "application/vnd.databricks.v1+cell": {
     "cellMetadata": {},
     "inputWidgets": {},
     "nuid": "fdada551-97d0-4513-ac75-b2abce082a08",
     "showTitle": false,
     "tableResultSettingsMap": {},
     "title": ""
    }
   },
   "source": []
  },
  {
   "cell_type": "markdown",
   "metadata": {
    "application/vnd.databricks.v1+cell": {
     "cellMetadata": {},
     "inputWidgets": {},
     "nuid": "f5d14d70-3ff7-4037-98b7-6afe5a7091f6",
     "showTitle": false,
     "tableResultSettingsMap": {},
     "title": ""
    }
   },
   "source": [
    "\n",
    "\n",
    "## How embedding-based search works (step-by-step)\n",
    "1. **Prepare your data**\n",
    "   - Split docs into **small chunks** (e.g., paragraphs).\n",
    "2. **Embed the chunks**\n",
    "   - Convert each chunk into a **vector** (embedding).\n",
    "   - Store vectors in a **vector database** (FAISS, Chroma, Milvus, etc.).\n",
    "3. **Handle a user query**\n",
    "   - Convert the user’s query into a **vector**.\n",
    "4. **Find similar chunks**\n",
    "   - Use **vector similarity** (e.g., cosine similarity) to find the **closest** vectors.\n",
    "5. **Return ranked results**\n",
    "   - Show the top-K most similar chunks (or feed them to an LLM for a grounded answer).\n"
   ]
  },
  {
   "cell_type": "markdown",
   "metadata": {
    "application/vnd.databricks.v1+cell": {
     "cellMetadata": {},
     "inputWidgets": {},
     "nuid": "32896d94-3f13-4414-a023-94ee7634c70e",
     "showTitle": false,
     "tableResultSettingsMap": {},
     "title": ""
    }
   },
   "source": []
  },
  {
   "cell_type": "markdown",
   "metadata": {
    "application/vnd.databricks.v1+cell": {
     "cellMetadata": {},
     "inputWidgets": {},
     "nuid": "ffd76acb-3e23-47ba-947e-803efd81ca09",
     "showTitle": false,
     "tableResultSettingsMap": {},
     "title": ""
    }
   },
   "source": []
  },
  {
   "cell_type": "markdown",
   "metadata": {
    "application/vnd.databricks.v1+cell": {
     "cellMetadata": {},
     "inputWidgets": {},
     "nuid": "d4788395-0033-4286-947b-5b40b82885df",
     "showTitle": false,
     "tableResultSettingsMap": {},
     "title": ""
    }
   },
   "source": []
  },
  {
   "cell_type": "markdown",
   "metadata": {
    "application/vnd.databricks.v1+cell": {
     "cellMetadata": {},
     "inputWidgets": {},
     "nuid": "8acc730f-119d-46af-bd5d-751a211a75ab",
     "showTitle": false,
     "tableResultSettingsMap": {},
     "title": ""
    }
   },
   "source": [
    "## 🛠️ How to Build a RAG System (Simple Terms)\n",
    "\n",
    "### 1. Collect & prepare your knowledge\n",
    "- Gather the stuff you want the AI to know: PDFs, web pages, database rows, manuals, FAQs, etc.  \n",
    "- Break big documents into small, meaningful chunks (like splitting a book into paragraphs).\n",
    "\n",
    "### 2. Index the knowledge so it’s searchable\n",
    "- Turn those chunks into numbers (vectors) so a computer can “search by meaning” instead of just keywords.  \n",
    "- Store them in a **vector database** (think: a smart search engine that understands concepts, not just exact words).\n",
    "\n",
    "### 3. Connect retrieval to generation\n",
    "- When someone asks a question:  \n",
    "  - First, **search** the vector database for the most relevant chunks.  \n",
    "  - Then, **feed** those chunks + the question into your LLM (like GPT).  \n",
    "  - The LLM reads the context and gives a **grounded** answer (based on the actual data).\n"
   ]
  }
 ],
 "metadata": {
  "application/vnd.databricks.v1+notebook": {
   "computePreferences": {
    "hardware": {
     "accelerator": null,
     "gpuPoolId": null,
     "memory": null
    }
   },
   "dashboards": [],
   "environmentMetadata": {
    "base_environment": "",
    "dependencies": [
     "-r /Workspace/Users/real.anirvan@gmail.com/build-ai-agent-that-works/requirements.txt"
    ],
    "environment_version": "3"
   },
   "inputWidgetPreferences": null,
   "language": "python",
   "notebookMetadata": {
    "pythonIndentUnit": 4
   },
   "notebookName": "2.1-Why knowledge assistant",
   "widgets": {}
  },
  "language_info": {
   "name": "python"
  }
 },
 "nbformat": 4,
 "nbformat_minor": 0
}
