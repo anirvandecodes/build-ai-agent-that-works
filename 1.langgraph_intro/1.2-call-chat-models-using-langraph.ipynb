{
 "cells": [
  {
   "cell_type": "code",
   "execution_count": 0,
   "metadata": {
    "application/vnd.databricks.v1+cell": {
     "cellMetadata": {
      "byteLimit": 2048000,
      "rowLimit": 10000
     },
     "inputWidgets": {},
     "nuid": "a03cb8ac-5eda-46a7-baf5-372791fe29a4",
     "showTitle": false,
     "tableResultSettingsMap": {},
     "title": ""
    }
   },
   "outputs": [],
   "source": [
    "from dotenv import load_dotenv\n",
    "import os\n",
    "import random\n",
    "from typing import Literal, TypedDict\n",
    "from langchain_core.messages import AnyMessage, HumanMessage, SystemMessage\n",
    "from langgraph.graph.message import add_messages\n",
    "from typing_extensions import Annotated\n",
    "from databricks_langchain import ChatDatabricks\n",
    "from langgraph.graph import StateGraph, START, END\n",
    "from langgraph.prebuilt import ToolNode, tools_condition\n",
    "from langgraph.graph import MessagesState\n",
    "\n",
    "# load_dotenv()\n",
    "\n",
    "\n",
    "# import mlflow\n",
    "# mlflow.langchain.autolog()\n",
    "\n",
    "\n",
    "\n",
    "\n",
    "\n",
    "llm = ChatDatabricks(endpoint = \"databricks-gpt-oss-120b\")\n",
    "\n",
    "def call_llm(state: MessagesState):\n",
    "\n",
    "    system_msg = {\"role\": \"system\", \"content\": \"Reply only with plain text. No formatting.\"}\n",
    "    all_msgs = [system_msg] + state[\"messages\"]\n",
    "\n",
    "    return {\"messages\": [llm.invoke(all_msgs)]}\n",
    "\n",
    "\n",
    "builder = StateGraph(MessagesState)\n",
    "builder.add_node(\"call_llm\", call_llm)\n",
    "\n",
    "\n",
    "builder.add_edge(START, \"call_llm\")\n",
    "builder.add_edge(\"call_llm\", END)\n",
    "\n",
    "graph = builder.compile()\n",
    "\n",
    "messages = graph.invoke({\"messages\": [HumanMessage(\"Tell me more about Databricks ?\")]})"
   ]
  },
  {
   "cell_type": "code",
   "execution_count": 0,
   "metadata": {
    "application/vnd.databricks.v1+cell": {
     "cellMetadata": {
      "byteLimit": 2048000,
      "rowLimit": 10000
     },
     "inputWidgets": {},
     "nuid": "60954157-2921-4fc2-b4a4-a79d5424412e",
     "showTitle": false,
     "tableResultSettingsMap": {},
     "title": ""
    }
   },
   "outputs": [],
   "source": [
    "message = messages['messages'][-1]\n",
    "\n",
    "for part in message.content:\n",
    "    if part.get(\"type\") == \"text\":\n",
    "       ai_message = part.get(\"text\", \"\")\n",
    "\n",
    "print(ai_message)"
   ]
  }
 ],
 "metadata": {
  "application/vnd.databricks.v1+notebook": {
   "computePreferences": {
    "hardware": {
     "accelerator": null,
     "gpuPoolId": null,
     "memory": null
    }
   },
   "dashboards": [],
   "environmentMetadata": {
    "base_environment": "",
    "dependencies": [
     "-r /Workspace/Users/real.anirvan@gmail.com/ai-agents-masterclass/requirements.txt"
    ],
    "environment_version": "3"
   },
   "inputWidgetPreferences": null,
   "language": "python",
   "notebookMetadata": {
    "pythonIndentUnit": 4
   },
   "notebookName": "1.2-call-chat-models-using-langraph",
   "widgets": {}
  },
  "language_info": {
   "name": "python"
  }
 },
 "nbformat": 4,
 "nbformat_minor": 0
}
