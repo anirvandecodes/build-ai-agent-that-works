{
 "cells": [
  {
   "cell_type": "markdown",
   "metadata": {
    "application/vnd.databricks.v1+cell": {
     "cellMetadata": {
      "byteLimit": 2048000,
      "rowLimit": 10000
     },
     "inputWidgets": {},
     "nuid": "f74731c8-53af-4e59-8ad5-b797790037ec",
     "showTitle": false,
     "tableResultSettingsMap": {},
     "title": ""
    }
   },
   "source": [
    "# LangGraph with Unity Catalog Functions - Tool Calling System\n",
    "\n",
    "This code creates a **conversational AI** that can call **Unity Catalog functions** as tools, using LangGraph + Databricks.\n",
    "\n",
    "## 🔧 **Setup & Configuration**\n",
    "- **MLflow tracking**: `mlflow.langchain.autolog()` logs all LLM interactions\n",
    "- **State management**: `State(MessagesState)` handles conversation history\n",
    "- **LLM**: Databricks GPT OSS 120B model endpoint\n",
    "\n",
    "## 🗃️ **Unity Catalog Integration**\n",
    "```python\n",
    "uc_tool_names = (\"agents.main.*\",)  # Pattern to match UC functions\n",
    "tools = UCFunctionToolkit(function_names=list(uc_tool_names)).tools\n",
    "```\n",
    "- **UCFunctionToolkit**: Automatically discovers and loads functions from Unity Catalog\n",
    "- **Pattern matching**: `\"agents.main.*\"` loads all functions from the `agents.main` schema\n",
    "- **Auto-discovery**: No need to manually define tools - UC functions become AI tools\n",
    "\n",
    "## 🤖 **LLM + Tools Setup**\n",
    "```python\n",
    "llm_with_tools = llm.bind_tools(tools)  # LLM gets access to UC functions\n",
    "```\n",
    "The LLM can now call any function from the Unity Catalog schema as needed.\n",
    "\n",
    "## 🕸️ **Graph Workflow**\n",
    "\n",
    "\n",
    "START → tool_calling_llm → [conditional routing] → tools → tool_calling_llm → END\n",
    "\n",
    "\n",
    "\n",
    "- **tool_calling_llm**: LLM decides whether to use UC functions or respond directly\n",
    "- **tools**: Executes the actual Unity Catalog functions\n",
    "- **Conditional routing**: Automatically routes to tools when LLM needs them\n",
    "\n",
    "## 🔄 **Execution Flow**\n",
    "1. **User query**: *\"Can you tell me more info about brittanyramos@example.org?\"*\n",
    "2. **LLM analysis**: Determines if UC functions can help with this email query\n",
    "3. **Tool calling**: May call UC functions like user lookup, email validation, etc.\n",
    "4. **Response**: Combines tool results with LLM reasoning\n",
    "\n",
    "## 🎯 **Key Benefits**\n",
    "- **Enterprise integration**: Direct access to company's UC functions\n",
    "- **Zero setup**: No manual tool definition required\n",
    "- **Scalable**: Automatically discovers new UC functions\n",
    "- **Secure**: Uses Unity Catalog's permissions and governance\n",
    "- **Production ready**: Enterprise-grade function execution\n",
    "\n",
    "This pattern enables AI agents to use your organization's existing data functions and business logic stored in Unity Catalog."
   ]
  },
  {
   "cell_type": "code",
   "execution_count": 0,
   "metadata": {
    "application/vnd.databricks.v1+cell": {
     "cellMetadata": {
      "byteLimit": 2048000,
      "implicitDf": true,
      "rowLimit": 10000
     },
     "inputWidgets": {},
     "nuid": "d53ab206-3b08-4427-9793-b0988d40098e",
     "showTitle": false,
     "tableResultSettingsMap": {},
     "title": ""
    }
   },
   "outputs": [],
   "source": [
    "%sql \n",
    "create catalog if not exists agents;\n",
    "create schema if not exists agents.main;"
   ]
  },
  {
   "cell_type": "markdown",
   "metadata": {
    "application/vnd.databricks.v1+cell": {
     "cellMetadata": {
      "byteLimit": 2048000,
      "rowLimit": 10000
     },
     "inputWidgets": {},
     "nuid": "94192dbe-af15-4772-b08d-3f89ec9d5cb9",
     "showTitle": false,
     "tableResultSettingsMap": {},
     "title": ""
    }
   },
   "source": [
    "\n",
    "## Get the customer details based on their email\n",
    "\n",
    "Let's add a function to retrieve a customer detail based on their email.\n"
   ]
  },
  {
   "cell_type": "code",
   "execution_count": 0,
   "metadata": {
    "application/vnd.databricks.v1+cell": {
     "cellMetadata": {
      "byteLimit": 2048000,
      "implicitDf": true,
      "rowLimit": 10000
     },
     "inputWidgets": {},
     "nuid": "7c70ea3a-fa5c-4723-9498-e6b712c343c8",
     "showTitle": false,
     "tableResultSettingsMap": {},
     "title": ""
    }
   },
   "outputs": [],
   "source": [
    "%sql\n",
    "CREATE OR REPLACE FUNCTION agents.main.get_customer_by_email(email_input STRING COMMENT 'customer email used to retrieve customer information')\n",
    "RETURNS TABLE (\n",
    "    customerID BIGINT,\n",
    "    first_name STRING,\n",
    "    last_name STRING,\n",
    "    email_address STRING,\n",
    "    phone_number STRING,\n",
    "    address STRING,\n",
    "    city STRING,\n",
    "    state STRING,\n",
    "    postal_zip_code STRING,\n",
    "    country STRING,\n",
    "    continent STRING,\n",
    "    gender STRING\n",
    ")\n",
    "COMMENT 'Returns the customer record matching the provided email address. Includes its customerID, first_name, last_name and more.'\n",
    "RETURN (\n",
    "    SELECT * FROM samples.bakehouse.sales_customers\n",
    "    WHERE email_address = email_input\n",
    "    LIMIT 1\n",
    ");"
   ]
  },
  {
   "cell_type": "code",
   "execution_count": 0,
   "metadata": {
    "application/vnd.databricks.v1+cell": {
     "cellMetadata": {
      "byteLimit": 2048000,
      "implicitDf": true,
      "rowLimit": 10000
     },
     "inputWidgets": {},
     "nuid": "60ed28ab-b7a0-4de7-b996-481a846b6c88",
     "showTitle": false,
     "tableResultSettingsMap": {},
     "title": ""
    }
   },
   "outputs": [],
   "source": [
    "%sql SELECT * FROM agents.main.get_customer_by_email('brittanyramos@example.org');"
   ]
  },
  {
   "cell_type": "code",
   "execution_count": 0,
   "metadata": {
    "application/vnd.databricks.v1+cell": {
     "cellMetadata": {
      "byteLimit": 2048000,
      "rowLimit": 10000
     },
     "inputWidgets": {},
     "nuid": "a03cb8ac-5eda-46a7-baf5-372791fe29a4",
     "showTitle": false,
     "tableResultSettingsMap": {},
     "title": ""
    }
   },
   "outputs": [],
   "source": [
    "from dotenv import load_dotenv\n",
    "import os\n",
    "import random\n",
    "from typing import Literal, TypedDict\n",
    "from langchain_core.messages import AnyMessage, HumanMessage\n",
    "from langgraph.graph.message import add_messages\n",
    "from typing_extensions import Annotated\n",
    "from databricks_langchain import ChatDatabricks, UCFunctionToolkit\n",
    "from langgraph.graph import StateGraph, START, END\n",
    "from langgraph.prebuilt import ToolNode, tools_condition\n",
    "\n",
    "\n",
    "from langgraph.graph import MessagesState\n",
    "\n",
    "\n",
    "\n",
    "import mlflow\n",
    "mlflow.langchain.autolog()\n",
    "\n",
    "\n",
    "class State(MessagesState):\n",
    "    pass\n",
    "\n",
    "\n",
    "\n",
    "\n",
    "llm = ChatDatabricks(endpoint = \"databricks-gpt-oss-120b\")\n",
    "\n",
    "\n",
    "uc_tool_names  = (\"agents.main.*\",)\n",
    "\n",
    "\n",
    "tools  = UCFunctionToolkit(function_names=list(uc_tool_names)).tools\n",
    "\n",
    "\n",
    "llm_with_tools = llm.bind_tools(tools)\n",
    "\n",
    "def tool_calling_llm(state: State):\n",
    "    return {\"messages\": [llm_with_tools.invoke(state[\"messages\"])]}\n",
    "\n",
    "\n",
    "builder = StateGraph(State)\n",
    "builder.add_node(\"tool_calling_llm\", tool_calling_llm)\n",
    "builder.add_node(\"tools\", ToolNode(tools))\n",
    "\n",
    "\n",
    "builder.add_edge(START, \"tool_calling_llm\")\n",
    "builder.add_conditional_edges(\"tool_calling_llm\", tools_condition)\n",
    "builder.add_edge(\"tools\", \"tool_calling_llm\")\n",
    "\n",
    "graph = builder.compile()\n",
    "\n",
    "result = graph.invoke({\"messages\": [HumanMessage(\"Can you tell me more info about brittanyramos@example.org?\")]})\n",
    "\n",
    "\n",
    "for i, message in enumerate(result[\"messages\"]):\n",
    "    print(f\"Message {i+1} ({type(message).__name__}): {message.content}\")\n",
    "\n",
    "\n"
   ]
  },
  {
   "cell_type": "code",
   "execution_count": 0,
   "metadata": {
    "application/vnd.databricks.v1+cell": {
     "cellMetadata": {
      "byteLimit": 2048000,
      "rowLimit": 10000
     },
     "inputWidgets": {},
     "nuid": "e63ae622-368d-4833-8087-f2cfc549eac3",
     "showTitle": false,
     "tableResultSettingsMap": {},
     "title": ""
    }
   },
   "outputs": [],
   "source": [
    "result = graph.invoke({\"messages\": [HumanMessage(\"Which table are you using to get the user details\")]})\n",
    "\n",
    "\n",
    "for i, message in enumerate(result[\"messages\"]):\n",
    "    print(f\"Message {i+1} ({type(message).__name__}): {message.content}\")"
   ]
  },
  {
   "cell_type": "code",
   "execution_count": 0,
   "metadata": {
    "application/vnd.databricks.v1+cell": {
     "cellMetadata": {
      "byteLimit": 2048000,
      "rowLimit": 10000
     },
     "inputWidgets": {},
     "nuid": "ea0e7f31-26e9-42d6-8661-0cf39909e0a6",
     "showTitle": false,
     "tableResultSettingsMap": {},
     "title": ""
    }
   },
   "outputs": [],
   "source": [
    "result = graph.invoke({\"messages\": [HumanMessage(\"Tell me more about the user table\")]})\n",
    "\n",
    "\n",
    "for i, message in enumerate(result[\"messages\"]):\n",
    "    print(f\"Message {i+1} ({type(message).__name__}): {message.content}\")"
   ]
  },
  {
   "cell_type": "code",
   "execution_count": 0,
   "metadata": {
    "application/vnd.databricks.v1+cell": {
     "cellMetadata": {
      "byteLimit": 2048000,
      "rowLimit": 10000
     },
     "inputWidgets": {},
     "nuid": "047ba31c-5fcd-462d-80a4-0844fad1fc71",
     "showTitle": false,
     "tableResultSettingsMap": {},
     "title": ""
    }
   },
   "outputs": [],
   "source": [
    "result = graph.invoke({\"messages\": [HumanMessage(\"Show me only the metadata for the user table\")]})\n",
    "\n",
    "\n",
    "for i, message in enumerate(result[\"messages\"]):\n",
    "    print(f\"Message {i+1} ({type(message).__name__}): {message.content}\")"
   ]
  }
 ],
 "metadata": {
  "application/vnd.databricks.v1+notebook": {
   "computePreferences": {
    "hardware": {
     "accelerator": null,
     "gpuPoolId": null,
     "memory": null
    }
   },
   "dashboards": [],
   "environmentMetadata": {
    "base_environment": "",
    "dependencies": [
     "-r /Workspace/Users/real.anirvan@gmail.com/ai-agents-masterclass/requirements.txt"
    ],
    "environment_version": "3"
   },
   "inputWidgetPreferences": null,
   "language": "python",
   "notebookMetadata": {
    "mostRecentlyExecutedCommandWithImplicitDF": {
     "commandId": 4708286460258408,
     "dataframes": [
      "_sqldf"
     ]
    },
    "pythonIndentUnit": 4
   },
   "notebookName": "1.4-uc-functions-as-tools",
   "widgets": {}
  },
  "language_info": {
   "name": "python"
  }
 },
 "nbformat": 4,
 "nbformat_minor": 0
}
